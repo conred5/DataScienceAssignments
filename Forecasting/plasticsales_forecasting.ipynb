{
 "cells": [
  {
   "cell_type": "code",
   "execution_count": 1,
   "metadata": {},
   "outputs": [],
   "source": [
    "import pandas as pd\n",
    "import numpy as np\n",
    "import matplotlib.pyplot as plt\n",
    "import seaborn as sns"
   ]
  },
  {
   "cell_type": "code",
   "execution_count": 2,
   "metadata": {},
   "outputs": [],
   "source": [
    "PlasticSales  = pd.read_csv(\"PlasticSales.csv\")"
   ]
  },
  {
   "cell_type": "code",
   "execution_count": 3,
   "metadata": {},
   "outputs": [
    {
     "data": {
      "text/html": [
       "<div>\n",
       "<style scoped>\n",
       "    .dataframe tbody tr th:only-of-type {\n",
       "        vertical-align: middle;\n",
       "    }\n",
       "\n",
       "    .dataframe tbody tr th {\n",
       "        vertical-align: top;\n",
       "    }\n",
       "\n",
       "    .dataframe thead th {\n",
       "        text-align: right;\n",
       "    }\n",
       "</style>\n",
       "<table border=\"1\" class=\"dataframe\">\n",
       "  <thead>\n",
       "    <tr style=\"text-align: right;\">\n",
       "      <th></th>\n",
       "      <th>Month</th>\n",
       "      <th>Sales</th>\n",
       "    </tr>\n",
       "  </thead>\n",
       "  <tbody>\n",
       "    <tr>\n",
       "      <th>0</th>\n",
       "      <td>Jan-49</td>\n",
       "      <td>742</td>\n",
       "    </tr>\n",
       "    <tr>\n",
       "      <th>1</th>\n",
       "      <td>Feb-49</td>\n",
       "      <td>697</td>\n",
       "    </tr>\n",
       "    <tr>\n",
       "      <th>2</th>\n",
       "      <td>Mar-49</td>\n",
       "      <td>776</td>\n",
       "    </tr>\n",
       "    <tr>\n",
       "      <th>3</th>\n",
       "      <td>Apr-49</td>\n",
       "      <td>898</td>\n",
       "    </tr>\n",
       "    <tr>\n",
       "      <th>4</th>\n",
       "      <td>May-49</td>\n",
       "      <td>1030</td>\n",
       "    </tr>\n",
       "  </tbody>\n",
       "</table>\n",
       "</div>"
      ],
      "text/plain": [
       "    Month  Sales\n",
       "0  Jan-49    742\n",
       "1  Feb-49    697\n",
       "2  Mar-49    776\n",
       "3  Apr-49    898\n",
       "4  May-49   1030"
      ]
     },
     "execution_count": 3,
     "metadata": {},
     "output_type": "execute_result"
    }
   ],
   "source": [
    "PlasticSales.head()"
   ]
  },
  {
   "cell_type": "code",
   "execution_count": 4,
   "metadata": {},
   "outputs": [
    {
     "data": {
      "text/plain": [
       "(60, 2)"
      ]
     },
     "execution_count": 4,
     "metadata": {},
     "output_type": "execute_result"
    }
   ],
   "source": [
    "PlasticSales.shape"
   ]
  },
  {
   "cell_type": "code",
   "execution_count": 5,
   "metadata": {},
   "outputs": [],
   "source": [
    "#Checking for null values"
   ]
  },
  {
   "cell_type": "code",
   "execution_count": 6,
   "metadata": {},
   "outputs": [
    {
     "data": {
      "text/plain": [
       "Month    0\n",
       "Sales    0\n",
       "dtype: int64"
      ]
     },
     "execution_count": 6,
     "metadata": {},
     "output_type": "execute_result"
    }
   ],
   "source": [
    "PlasticSales.isnull().sum()"
   ]
  },
  {
   "cell_type": "code",
   "execution_count": 7,
   "metadata": {},
   "outputs": [
    {
     "data": {
      "text/plain": [
       "<matplotlib.axes._subplots.AxesSubplot at 0x18acad1f940>"
      ]
     },
     "execution_count": 7,
     "metadata": {},
     "output_type": "execute_result"
    },
    {
     "data": {
      "image/png": "[encoded data removed]",
      "text/plain": [
       "<Figure size 432x288 with 1 Axes>"
      ]
     },
     "metadata": {
      "needs_background": "light"
     },
     "output_type": "display_data"
    }
   ],
   "source": [
    "sns.boxplot(data=PlasticSales,orient=\"h\")"
   ]
  },
  {
   "cell_type": "code",
   "execution_count": 9,
   "metadata": {},
   "outputs": [],
   "source": [
    "PlasticSales['Month'] = pd.to_datetime(PlasticSales['Month'])\n",
    "PlasticSales['months'] = PlasticSales['Month'].dt.strftime('%b')"
   ]
  },
  {
   "cell_type": "code",
   "execution_count": 10,
   "metadata": {},
   "outputs": [
    {
     "data": {
      "text/html": [
       "<div>\n",
       "<style scoped>\n",
       "    .dataframe tbody tr th:only-of-type {\n",
       "        vertical-align: middle;\n",
       "    }\n",
       "\n",
       "    .dataframe tbody tr th {\n",
       "        vertical-align: top;\n",
       "    }\n",
       "\n",
       "    .dataframe thead th {\n",
       "        text-align: right;\n",
       "    }\n",
       "</style>\n",
       "<table border=\"1\" class=\"dataframe\">\n",
       "  <thead>\n",
       "    <tr style=\"text-align: right;\">\n",
       "      <th></th>\n",
       "      <th>Month</th>\n",
       "      <th>Sales</th>\n",
       "      <th>months</th>\n",
       "    </tr>\n",
       "  </thead>\n",
       "  <tbody>\n",
       "    <tr>\n",
       "      <th>55</th>\n",
       "      <td>2053-08-01</td>\n",
       "      <td>1608</td>\n",
       "      <td>Aug</td>\n",
       "    </tr>\n",
       "    <tr>\n",
       "      <th>56</th>\n",
       "      <td>2053-09-01</td>\n",
       "      <td>1528</td>\n",
       "      <td>Sep</td>\n",
       "    </tr>\n",
       "    <tr>\n",
       "      <th>57</th>\n",
       "      <td>2053-10-01</td>\n",
       "      <td>1420</td>\n",
       "      <td>Oct</td>\n",
       "    </tr>\n",
       "    <tr>\n",
       "      <th>58</th>\n",
       "      <td>2053-11-01</td>\n",
       "      <td>1119</td>\n",
       "      <td>Nov</td>\n",
       "    </tr>\n",
       "    <tr>\n",
       "      <th>59</th>\n",
       "      <td>2053-12-01</td>\n",
       "      <td>1013</td>\n",
       "      <td>Dec</td>\n",
       "    </tr>\n",
       "  </tbody>\n",
       "</table>\n",
       "</div>"
      ],
      "text/plain": [
       "        Month  Sales months\n",
       "55 2053-08-01   1608    Aug\n",
       "56 2053-09-01   1528    Sep\n",
       "57 2053-10-01   1420    Oct\n",
       "58 2053-11-01   1119    Nov\n",
       "59 2053-12-01   1013    Dec"
      ]
     },
     "execution_count": 10,
     "metadata": {},
     "output_type": "execute_result"
    }
   ],
   "source": [
    "PlasticSales.tail()"
   ]
  },
  {
   "cell_type": "code",
   "execution_count": 11,
   "metadata": {},
   "outputs": [],
   "source": [
    "#creating dummies"
   ]
  },
  {
   "cell_type": "code",
   "execution_count": 12,
   "metadata": {},
   "outputs": [],
   "source": [
    "months =['Jan','Feb','Mar','Apr','May','Jun','Jul','Aug','Sep','Oct','Nov','Dec']"
   ]
  },
  {
   "cell_type": "code",
   "execution_count": 13,
   "metadata": {},
   "outputs": [
    {
     "data": {
      "text/html": [
       "<div>\n",
       "<style scoped>\n",
       "    .dataframe tbody tr th:only-of-type {\n",
       "        vertical-align: middle;\n",
       "    }\n",
       "\n",
       "    .dataframe tbody tr th {\n",
       "        vertical-align: top;\n",
       "    }\n",
       "\n",
       "    .dataframe thead th {\n",
       "        text-align: right;\n",
       "    }\n",
       "</style>\n",
       "<table border=\"1\" class=\"dataframe\">\n",
       "  <thead>\n",
       "    <tr style=\"text-align: right;\">\n",
       "      <th></th>\n",
       "      <th>Month</th>\n",
       "      <th>Sales</th>\n",
       "      <th>months</th>\n",
       "      <th>Apr</th>\n",
       "      <th>Aug</th>\n",
       "      <th>Dec</th>\n",
       "      <th>Feb</th>\n",
       "      <th>Jan</th>\n",
       "      <th>Jul</th>\n",
       "      <th>Jun</th>\n",
       "      <th>Mar</th>\n",
       "      <th>May</th>\n",
       "      <th>Nov</th>\n",
       "      <th>Oct</th>\n",
       "      <th>Sep</th>\n",
       "    </tr>\n",
       "  </thead>\n",
       "  <tbody>\n",
       "    <tr>\n",
       "      <th>0</th>\n",
       "      <td>2049-01-01</td>\n",
       "      <td>742</td>\n",
       "      <td>Jan</td>\n",
       "      <td>0</td>\n",
       "      <td>0</td>\n",
       "      <td>0</td>\n",
       "      <td>0</td>\n",
       "      <td>1</td>\n",
       "      <td>0</td>\n",
       "      <td>0</td>\n",
       "      <td>0</td>\n",
       "      <td>0</td>\n",
       "      <td>0</td>\n",
       "      <td>0</td>\n",
       "      <td>0</td>\n",
       "    </tr>\n",
       "    <tr>\n",
       "      <th>1</th>\n",
       "      <td>2049-02-01</td>\n",
       "      <td>697</td>\n",
       "      <td>Feb</td>\n",
       "      <td>0</td>\n",
       "      <td>0</td>\n",
       "      <td>0</td>\n",
       "      <td>1</td>\n",
       "      <td>0</td>\n",
       "      <td>0</td>\n",
       "      <td>0</td>\n",
       "      <td>0</td>\n",
       "      <td>0</td>\n",
       "      <td>0</td>\n",
       "      <td>0</td>\n",
       "      <td>0</td>\n",
       "    </tr>\n",
       "    <tr>\n",
       "      <th>2</th>\n",
       "      <td>2049-03-01</td>\n",
       "      <td>776</td>\n",
       "      <td>Mar</td>\n",
       "      <td>0</td>\n",
       "      <td>0</td>\n",
       "      <td>0</td>\n",
       "      <td>0</td>\n",
       "      <td>0</td>\n",
       "      <td>0</td>\n",
       "      <td>0</td>\n",
       "      <td>1</td>\n",
       "      <td>0</td>\n",
       "      <td>0</td>\n",
       "      <td>0</td>\n",
       "      <td>0</td>\n",
       "    </tr>\n",
       "    <tr>\n",
       "      <th>3</th>\n",
       "      <td>2049-04-01</td>\n",
       "      <td>898</td>\n",
       "      <td>Apr</td>\n",
       "      <td>1</td>\n",
       "      <td>0</td>\n",
       "      <td>0</td>\n",
       "      <td>0</td>\n",
       "      <td>0</td>\n",
       "      <td>0</td>\n",
       "      <td>0</td>\n",
       "      <td>0</td>\n",
       "      <td>0</td>\n",
       "      <td>0</td>\n",
       "      <td>0</td>\n",
       "      <td>0</td>\n",
       "    </tr>\n",
       "    <tr>\n",
       "      <th>4</th>\n",
       "      <td>2049-05-01</td>\n",
       "      <td>1030</td>\n",
       "      <td>May</td>\n",
       "      <td>0</td>\n",
       "      <td>0</td>\n",
       "      <td>0</td>\n",
       "      <td>0</td>\n",
       "      <td>0</td>\n",
       "      <td>0</td>\n",
       "      <td>0</td>\n",
       "      <td>0</td>\n",
       "      <td>1</td>\n",
       "      <td>0</td>\n",
       "      <td>0</td>\n",
       "      <td>0</td>\n",
       "    </tr>\n",
       "  </tbody>\n",
       "</table>\n",
       "</div>"
      ],
      "text/plain": [
       "       Month  Sales months  Apr  Aug  Dec  Feb  Jan  Jul  Jun  Mar  May  Nov  \\\n",
       "0 2049-01-01    742    Jan    0    0    0    0    1    0    0    0    0    0   \n",
       "1 2049-02-01    697    Feb    0    0    0    1    0    0    0    0    0    0   \n",
       "2 2049-03-01    776    Mar    0    0    0    0    0    0    0    1    0    0   \n",
       "3 2049-04-01    898    Apr    1    0    0    0    0    0    0    0    0    0   \n",
       "4 2049-05-01   1030    May    0    0    0    0    0    0    0    0    1    0   \n",
       "\n",
       "   Oct  Sep  \n",
       "0    0    0  \n",
       "1    0    0  \n",
       "2    0    0  \n",
       "3    0    0  \n",
       "4    0    0  "
      ]
     },
     "execution_count": 13,
     "metadata": {},
     "output_type": "execute_result"
    }
   ],
   "source": [
    "month_dummies = pd.DataFrame(pd.get_dummies(PlasticSales['months']))\n",
    "month_dummies\n",
    "PlasticSales1 = pd.concat([PlasticSales,month_dummies],axis = 1)\n",
    "PlasticSales1.head()"
   ]
  },
  {
   "cell_type": "code",
   "execution_count": 14,
   "metadata": {},
   "outputs": [
    {
     "data": {
      "text/plain": [
       "Index(['Month', 'Sales', 'months', 'Apr', 'Aug', 'Dec', 'Feb', 'Jan', 'Jul',\n",
       "       'Jun', 'Mar', 'May', 'Nov', 'Oct', 'Sep', 't', 't_squared',\n",
       "       'log_Sales'],\n",
       "      dtype='object')"
      ]
     },
     "execution_count": 14,
     "metadata": {},
     "output_type": "execute_result"
    }
   ],
   "source": [
    "PlasticSales1[\"t\"] = np.arange(1,61)   \n",
    "PlasticSales1[\"t_squared\"] = PlasticSales1[\"t\"]*PlasticSales1[\"t\"] \n",
    "PlasticSales1[\"log_Sales\"] = np.log(PlasticSales1[\"Sales\"]) \n",
    "PlasticSales1.columns"
   ]
  },
  {
   "cell_type": "code",
   "execution_count": 15,
   "metadata": {},
   "outputs": [
    {
     "data": {
      "image/png": "[encoded data removed]",
      "text/plain": [
       "<Figure size 432x288 with 1 Axes>"
      ]
     },
     "metadata": {
      "needs_background": "light"
     },
     "output_type": "display_data"
    }
   ],
   "source": [
    "PlasticSales1.Sales.plot()\n",
    "plt.show()"
   ]
  },
  {
   "cell_type": "code",
   "execution_count": 16,
   "metadata": {},
   "outputs": [],
   "source": [
    "#Spliting data into train and test"
   ]
  },
  {
   "cell_type": "code",
   "execution_count": 17,
   "metadata": {},
   "outputs": [],
   "source": [
    "train = PlasticSales1.head(48)\n",
    "test = PlasticSales1.tail(12)"
   ]
  },
  {
   "cell_type": "code",
   "execution_count": 20,
   "metadata": {},
   "outputs": [
    {
     "name": "stdout",
     "output_type": "stream",
     "text": [
      "RMSE Linear:  260.93781425111206\n"
     ]
    }
   ],
   "source": [
    "#Linear\n",
    "import statsmodels.formula.api as smf \n",
    "\n",
    "linear_model = smf.ols('Sales~t',data=train).fit()\n",
    "pred_linear =  pd.Series(linear_model.predict(pd.DataFrame(test['t'])))\n",
    "rmse_linear = np.sqrt(np.mean((np.array(test['Sales'])-np.array(pred_linear))**2))\n",
    "print(\"RMSE Linear: \",rmse_linear)"
   ]
  },
  {
   "cell_type": "code",
   "execution_count": 21,
   "metadata": {},
   "outputs": [
    {
     "name": "stdout",
     "output_type": "stream",
     "text": [
      "RMSE Exponential:  268.69383850025605\n"
     ]
    }
   ],
   "source": [
    "#Exponential\n",
    "Exp = smf.ols('log_Sales~t',data=train).fit()\n",
    "pred_Exp = pd.Series(Exp.predict(pd.DataFrame(test['t'])))\n",
    "rmse_Exp = np.sqrt(np.mean((np.array(test['Sales'])-np.array(np.exp(pred_Exp)))**2))\n",
    "print(\"RMSE Exponential: \",rmse_Exp)"
   ]
  },
  {
   "cell_type": "code",
   "execution_count": 22,
   "metadata": {},
   "outputs": [
    {
     "name": "stdout",
     "output_type": "stream",
     "text": [
      "RMSE Quadratic:  297.4067097272056\n"
     ]
    }
   ],
   "source": [
    "Quad = smf.ols('Sales~t+t_squared',data=train).fit()\n",
    "pred_Quad = pd.Series(Quad.predict(test[[\"t\",\"t_squared\"]]))\n",
    "rmse_Quad = np.sqrt(np.mean((np.array(test['Sales'])-np.array(pred_Quad))**2))\n",
    "print(\"RMSE Quadratic: \",rmse_Quad)"
   ]
  },
  {
   "cell_type": "code",
   "execution_count": 25,
   "metadata": {},
   "outputs": [
    {
     "name": "stdout",
     "output_type": "stream",
     "text": [
      "RMSE Additive seasonality:  235.60267356646546\n"
     ]
    }
   ],
   "source": [
    "add_seas = smf.ols('Sales~Jan+Feb+Mar+Apr+May+Jun+Jul+Aug+Sep+Oct+Nov+Dec',data=train).fit()\n",
    "pred_add_seas = pd.Series(add_seas.predict(test[['Jan','Feb','Mar','Apr','May','Jun','Jul','Aug','Sep','Oct','Nov','Dec']]))\n",
    "rmse_add_seas = np.sqrt(np.mean((np.array(test['Sales'])-np.array(pred_add_seas))**2))\n",
    "print(\"RMSE Additive seasonality: \",rmse_add_seas)"
   ]
  },
  {
   "cell_type": "code",
   "execution_count": 26,
   "metadata": {},
   "outputs": [
    {
     "name": "stdout",
     "output_type": "stream",
     "text": [
      "RMSE Additive Seasonality Quadratic: 218.19387584887005\n"
     ]
    }
   ],
   "source": [
    "add_sea_Quad = smf.ols('Sales~t+t_squared+Jan+Feb+Mar+Apr+May+Jun+Jul+Aug+Sep+Oct+Nov+Dec',data=train).fit()\n",
    "pred_add_sea_quad = pd.Series(add_sea_Quad.predict(test[['Jan','Feb','Mar','Apr','May','Jun','Jul','Aug','Sep','Oct','Nov','Dec','t','t_squared']]))\n",
    "rmse_add_sea_quad = np.sqrt(np.mean((np.array(test['Sales'])-np.array(pred_add_sea_quad))**2))\n",
    "print(\"RMSE Additive Seasonality Quadratic:\",rmse_add_sea_quad )"
   ]
  },
  {
   "cell_type": "code",
   "execution_count": 27,
   "metadata": {},
   "outputs": [
    {
     "name": "stdout",
     "output_type": "stream",
     "text": [
      "RMSE Multiplicative Seasonality: 239.65432143121123\n"
     ]
    }
   ],
   "source": [
    "Mul_sea = smf.ols('log_Sales~Jan+Feb+Mar+Apr+May+Jun+Jul+Aug+Sep+Oct+Nov+Dec',data = train).fit()\n",
    "pred_Mult_sea = pd.Series(Mul_sea.predict(test))\n",
    "rmse_Mult_sea = np.sqrt(np.mean((np.array(test['Sales'])-np.array(np.exp(pred_Mult_sea)))**2))\n",
    "print(\"RMSE Multiplicative Seasonality:\",rmse_Mult_sea)"
   ]
  },
  {
   "cell_type": "code",
   "execution_count": 28,
   "metadata": {},
   "outputs": [
    {
     "name": "stdout",
     "output_type": "stream",
     "text": [
      "RMSE Multiplicative Additive Seasonality: 160.6833294719365\n"
     ]
    }
   ],
   "source": [
    "Mul_Add_sea = smf.ols('log_Sales~t+Jan+Feb+Mar+Apr+May+Jun+Jul+Aug+Sep+Oct+Nov+Dec',data = train).fit()\n",
    "pred_Mult_add_sea = pd.Series(Mul_Add_sea.predict(test))\n",
    "rmse_Mult_add_sea = np.sqrt(np.mean((np.array(test['Sales'])-np.array(np.exp(pred_Mult_add_sea)))**2))\n",
    "print(\"RMSE Multiplicative Additive Seasonality:\",rmse_Mult_add_sea )"
   ]
  },
  {
   "cell_type": "code",
   "execution_count": 30,
   "metadata": {},
   "outputs": [
    {
     "data": {
      "text/html": [
       "<div>\n",
       "<style scoped>\n",
       "    .dataframe tbody tr th:only-of-type {\n",
       "        vertical-align: middle;\n",
       "    }\n",
       "\n",
       "    .dataframe tbody tr th {\n",
       "        vertical-align: top;\n",
       "    }\n",
       "\n",
       "    .dataframe thead th {\n",
       "        text-align: right;\n",
       "    }\n",
       "</style>\n",
       "<table border=\"1\" class=\"dataframe\">\n",
       "  <thead>\n",
       "    <tr style=\"text-align: right;\">\n",
       "      <th></th>\n",
       "      <th>MODEL</th>\n",
       "      <th>RMSE_Values</th>\n",
       "    </tr>\n",
       "  </thead>\n",
       "  <tbody>\n",
       "    <tr>\n",
       "      <th>0</th>\n",
       "      <td>rmse_linear</td>\n",
       "      <td>260.937814</td>\n",
       "    </tr>\n",
       "    <tr>\n",
       "      <th>1</th>\n",
       "      <td>rmse_Exp</td>\n",
       "      <td>268.693839</td>\n",
       "    </tr>\n",
       "    <tr>\n",
       "      <th>2</th>\n",
       "      <td>rmse_Quad</td>\n",
       "      <td>297.406710</td>\n",
       "    </tr>\n",
       "    <tr>\n",
       "      <th>3</th>\n",
       "      <td>rmse_add_sea</td>\n",
       "      <td>235.602674</td>\n",
       "    </tr>\n",
       "    <tr>\n",
       "      <th>4</th>\n",
       "      <td>rmse_add_sea_quad</td>\n",
       "      <td>218.193876</td>\n",
       "    </tr>\n",
       "    <tr>\n",
       "      <th>5</th>\n",
       "      <td>rmse_Mult_sea</td>\n",
       "      <td>239.654321</td>\n",
       "    </tr>\n",
       "    <tr>\n",
       "      <th>6</th>\n",
       "      <td>rmse_Mult_add_sea</td>\n",
       "      <td>160.683329</td>\n",
       "    </tr>\n",
       "  </tbody>\n",
       "</table>\n",
       "</div>"
      ],
      "text/plain": [
       "               MODEL  RMSE_Values\n",
       "0        rmse_linear   260.937814\n",
       "1           rmse_Exp   268.693839\n",
       "2          rmse_Quad   297.406710\n",
       "3       rmse_add_sea   235.602674\n",
       "4  rmse_add_sea_quad   218.193876\n",
       "5      rmse_Mult_sea   239.654321\n",
       "6  rmse_Mult_add_sea   160.683329"
      ]
     },
     "execution_count": 30,
     "metadata": {},
     "output_type": "execute_result"
    }
   ],
   "source": [
    "data = {\"MODEL\":pd.Series([\"rmse_linear\",\"rmse_Exp\",\"rmse_Quad\",\"rmse_add_sea\",\"rmse_add_sea_quad\",\"rmse_Mult_sea\",\"rmse_Mult_add_sea\"]),\n",
    "        \"RMSE_Values\":pd.Series([rmse_linear,rmse_Exp,rmse_Quad,rmse_add_seas,rmse_add_sea_quad,rmse_Mult_sea,rmse_Mult_add_sea])}\n",
    "table_rmse=pd.DataFrame(data)\n",
    "table_rmse"
   ]
  },
  {
   "cell_type": "code",
   "execution_count": 31,
   "metadata": {},
   "outputs": [],
   "source": [
    "#Forecast for next 12 months"
   ]
  },
  {
   "cell_type": "code",
   "execution_count": 32,
   "metadata": {},
   "outputs": [
    {
     "data": {
      "text/html": [
       "<div>\n",
       "<style scoped>\n",
       "    .dataframe tbody tr th:only-of-type {\n",
       "        vertical-align: middle;\n",
       "    }\n",
       "\n",
       "    .dataframe tbody tr th {\n",
       "        vertical-align: top;\n",
       "    }\n",
       "\n",
       "    .dataframe thead th {\n",
       "        text-align: right;\n",
       "    }\n",
       "</style>\n",
       "<table border=\"1\" class=\"dataframe\">\n",
       "  <thead>\n",
       "    <tr style=\"text-align: right;\">\n",
       "      <th></th>\n",
       "      <th>Date</th>\n",
       "      <th>Months</th>\n",
       "    </tr>\n",
       "  </thead>\n",
       "  <tbody>\n",
       "    <tr>\n",
       "      <th>0</th>\n",
       "      <td>Jan-54</td>\n",
       "      <td>Jan</td>\n",
       "    </tr>\n",
       "    <tr>\n",
       "      <th>1</th>\n",
       "      <td>Feb-54</td>\n",
       "      <td>Feb</td>\n",
       "    </tr>\n",
       "    <tr>\n",
       "      <th>2</th>\n",
       "      <td>Mar-54</td>\n",
       "      <td>Mar</td>\n",
       "    </tr>\n",
       "    <tr>\n",
       "      <th>3</th>\n",
       "      <td>Apr-54</td>\n",
       "      <td>Apr</td>\n",
       "    </tr>\n",
       "    <tr>\n",
       "      <th>4</th>\n",
       "      <td>May-54</td>\n",
       "      <td>May</td>\n",
       "    </tr>\n",
       "    <tr>\n",
       "      <th>5</th>\n",
       "      <td>June-54</td>\n",
       "      <td>Jun</td>\n",
       "    </tr>\n",
       "    <tr>\n",
       "      <th>6</th>\n",
       "      <td>Jul-54</td>\n",
       "      <td>Jul</td>\n",
       "    </tr>\n",
       "    <tr>\n",
       "      <th>7</th>\n",
       "      <td>Aug-54</td>\n",
       "      <td>Aug</td>\n",
       "    </tr>\n",
       "    <tr>\n",
       "      <th>8</th>\n",
       "      <td>Sep-54</td>\n",
       "      <td>Sep</td>\n",
       "    </tr>\n",
       "    <tr>\n",
       "      <th>9</th>\n",
       "      <td>Oct-54</td>\n",
       "      <td>Oct</td>\n",
       "    </tr>\n",
       "    <tr>\n",
       "      <th>10</th>\n",
       "      <td>Nov-54</td>\n",
       "      <td>Nov</td>\n",
       "    </tr>\n",
       "    <tr>\n",
       "      <th>11</th>\n",
       "      <td>Dec-54</td>\n",
       "      <td>Dec</td>\n",
       "    </tr>\n",
       "  </tbody>\n",
       "</table>\n",
       "</div>"
      ],
      "text/plain": [
       "       Date Months\n",
       "0    Jan-54    Jan\n",
       "1    Feb-54    Feb\n",
       "2    Mar-54    Mar\n",
       "3    Apr-54    Apr\n",
       "4    May-54    May\n",
       "5   June-54    Jun\n",
       "6    Jul-54    Jul\n",
       "7    Aug-54    Aug\n",
       "8    Sep-54    Sep\n",
       "9    Oct-54    Oct\n",
       "10   Nov-54    Nov\n",
       "11   Dec-54    Dec"
      ]
     },
     "execution_count": 32,
     "metadata": {},
     "output_type": "execute_result"
    }
   ],
   "source": [
    "data = [['Jan-54', 'Jan'], ['Feb-54', 'Feb'], ['Mar-54', 'Mar'],['Apr-54', 'Apr'],['May-54', 'May'],['June-54', 'Jun'],\n",
    "        ['Jul-54','Jul'],['Aug-54', 'Aug'],['Sep-54', 'Sep'],['Oct-54', 'Oct'],['Nov-54', 'Nov'],['Dec-54', 'Dec']]\n",
    "forecast = pd.DataFrame(data, columns = ['Date', 'Months'])\n",
    "forecast"
   ]
  },
  {
   "cell_type": "code",
   "execution_count": 33,
   "metadata": {},
   "outputs": [],
   "source": [
    "#Creating dummies"
   ]
  },
  {
   "cell_type": "code",
   "execution_count": 34,
   "metadata": {},
   "outputs": [
    {
     "name": "stdout",
     "output_type": "stream",
     "text": [
      "After dummy\n",
      "      Date Months  Apr  Aug  Dec  Feb  Jan  Jul  Jun  Mar  May  Nov  Oct  Sep\n",
      "0  Jan-54    Jan    0    0    0    0    1    0    0    0    0    0    0    0\n",
      "1  Feb-54    Feb    0    0    0    1    0    0    0    0    0    0    0    0\n",
      "2  Mar-54    Mar    0    0    0    0    0    0    0    1    0    0    0    0\n",
      "3  Apr-54    Apr    1    0    0    0    0    0    0    0    0    0    0    0\n",
      "4  May-54    May    0    0    0    0    0    0    0    0    1    0    0    0\n",
      "\n",
      "After T and T-Square\n",
      "      Date Months  Apr  Aug  Dec  Feb  Jan  Jul  Jun  Mar  May  Nov  Oct  Sep  \\\n",
      "0  Jan-54    Jan    0    0    0    0    1    0    0    0    0    0    0    0   \n",
      "1  Feb-54    Feb    0    0    0    1    0    0    0    0    0    0    0    0   \n",
      "2  Mar-54    Mar    0    0    0    0    0    0    0    1    0    0    0    0   \n",
      "3  Apr-54    Apr    1    0    0    0    0    0    0    0    0    0    0    0   \n",
      "4  May-54    May    0    0    0    0    0    0    0    0    1    0    0    0   \n",
      "\n",
      "   t  t_squared  \n",
      "0  1          1  \n",
      "1  2          4  \n",
      "2  3          9  \n",
      "3  4         16  \n",
      "4  5         25  \n"
     ]
    }
   ],
   "source": [
    "dummies = pd.DataFrame(pd.get_dummies(forecast['Months']))\n",
    "forecast1 = pd.concat([forecast,dummies],axis = 1)\n",
    "print(\"After dummy\\n\",forecast1.head())\n",
    "\n",
    "forecast1[\"t\"] = np.arange(1,13)   \n",
    "forecast1[\"t_squared\"] = forecast1[\"t\"]*forecast1[\"t\"] \n",
    "print(\"\\nAfter T and T-Square\\n\",forecast1.head())"
   ]
  },
  {
   "cell_type": "code",
   "execution_count": 35,
   "metadata": {},
   "outputs": [],
   "source": [
    "# Forecasting using Multiplicative Additive Seasonality Model\n",
    "\n",
    "model_full = smf.ols('log_Sales~t+Jan+Feb+Mar+Apr+May+Jun+Jul+Aug+Sep+Oct+Nov+Dec',data = PlasticSales1).fit()\n",
    "\n",
    "pred_new  = pd.Series(model_full.predict(forecast1))\n",
    "pred_new\n",
    "\n",
    "forecast1[\"Forecasted_log\"] = pd.Series(pred_new)\n",
    "forecast1['Forecasted_Sales'] = np.exp(forecast1['Forecasted_log'])"
   ]
  },
  {
   "cell_type": "code",
   "execution_count": 36,
   "metadata": {},
   "outputs": [],
   "source": [
    "#Prediction"
   ]
  },
  {
   "cell_type": "code",
   "execution_count": 37,
   "metadata": {},
   "outputs": [
    {
     "data": {
      "text/html": [
       "<div>\n",
       "<style scoped>\n",
       "    .dataframe tbody tr th:only-of-type {\n",
       "        vertical-align: middle;\n",
       "    }\n",
       "\n",
       "    .dataframe tbody tr th {\n",
       "        vertical-align: top;\n",
       "    }\n",
       "\n",
       "    .dataframe thead th {\n",
       "        text-align: right;\n",
       "    }\n",
       "</style>\n",
       "<table border=\"1\" class=\"dataframe\">\n",
       "  <thead>\n",
       "    <tr style=\"text-align: right;\">\n",
       "      <th></th>\n",
       "      <th>Months</th>\n",
       "      <th>Forecasted_Sales</th>\n",
       "    </tr>\n",
       "  </thead>\n",
       "  <tbody>\n",
       "    <tr>\n",
       "      <th>0</th>\n",
       "      <td>Jan</td>\n",
       "      <td>735.511604</td>\n",
       "    </tr>\n",
       "    <tr>\n",
       "      <th>1</th>\n",
       "      <td>Feb</td>\n",
       "      <td>687.285730</td>\n",
       "    </tr>\n",
       "    <tr>\n",
       "      <th>2</th>\n",
       "      <td>Mar</td>\n",
       "      <td>758.119020</td>\n",
       "    </tr>\n",
       "    <tr>\n",
       "      <th>3</th>\n",
       "      <td>Apr</td>\n",
       "      <td>890.914100</td>\n",
       "    </tr>\n",
       "    <tr>\n",
       "      <th>4</th>\n",
       "      <td>May</td>\n",
       "      <td>1026.009386</td>\n",
       "    </tr>\n",
       "    <tr>\n",
       "      <th>5</th>\n",
       "      <td>Jun</td>\n",
       "      <td>1132.643225</td>\n",
       "    </tr>\n",
       "    <tr>\n",
       "      <th>6</th>\n",
       "      <td>Jul</td>\n",
       "      <td>1158.977050</td>\n",
       "    </tr>\n",
       "    <tr>\n",
       "      <th>7</th>\n",
       "      <td>Aug</td>\n",
       "      <td>1213.118530</td>\n",
       "    </tr>\n",
       "    <tr>\n",
       "      <th>8</th>\n",
       "      <td>Sep</td>\n",
       "      <td>1211.393367</td>\n",
       "    </tr>\n",
       "    <tr>\n",
       "      <th>9</th>\n",
       "      <td>Oct</td>\n",
       "      <td>1166.348313</td>\n",
       "    </tr>\n",
       "    <tr>\n",
       "      <th>10</th>\n",
       "      <td>Nov</td>\n",
       "      <td>967.586871</td>\n",
       "    </tr>\n",
       "    <tr>\n",
       "      <th>11</th>\n",
       "      <td>Dec</td>\n",
       "      <td>830.155678</td>\n",
       "    </tr>\n",
       "  </tbody>\n",
       "</table>\n",
       "</div>"
      ],
      "text/plain": [
       "   Months  Forecasted_Sales\n",
       "0     Jan        735.511604\n",
       "1     Feb        687.285730\n",
       "2     Mar        758.119020\n",
       "3     Apr        890.914100\n",
       "4     May       1026.009386\n",
       "5     Jun       1132.643225\n",
       "6     Jul       1158.977050\n",
       "7     Aug       1213.118530\n",
       "8     Sep       1211.393367\n",
       "9     Oct       1166.348313\n",
       "10    Nov        967.586871\n",
       "11    Dec        830.155678"
      ]
     },
     "execution_count": 37,
     "metadata": {},
     "output_type": "execute_result"
    }
   ],
   "source": [
    "Final_predict = forecast1.loc[:, ['Months', 'Forecasted_Sales']] \n",
    "Final_predict"
   ]
  },
  {
   "cell_type": "code",
   "execution_count": null,
   "metadata": {},
   "outputs": [],
   "source": []
  },
  {
   "cell_type": "code",
   "execution_count": null,
   "metadata": {},
   "outputs": [],
   "source": []
  }
 ],
 "metadata": {
  "kernelspec": {
   "display_name": "Python 3",
   "language": "python",
   "name": "python3"
  },
  "language_info": {
   "codemirror_mode": {
    "name": "ipython",
    "version": 3
   },
   "file_extension": ".py",
   "mimetype": "text/x-python",
   "name": "python",
   "nbconvert_exporter": "python",
   "pygments_lexer": "ipython3",
   "version": "3.8.3"
  }
 },
 "nbformat": 4,
 "nbformat_minor": 4
}
